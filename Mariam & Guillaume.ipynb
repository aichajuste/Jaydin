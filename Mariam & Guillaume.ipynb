{
 "cells": [
  {
   "cell_type": "code",
   "execution_count": 17,
   "id": "917cfc9f",
   "metadata": {},
   "outputs": [
    {
     "name": "stdout",
     "output_type": "stream",
     "text": [
      "4\n",
      "[9, 5, 1]\n",
      "3\n"
     ]
    }
   ],
   "source": [
    "#declaration des variable \n",
    "carre3=[[2,7,3],[9,5,1],[4,3,8]]\n",
    "carre4=[[4,5,11,14],[15,10,8,1],[6,3,13,12],[9,16,2,7]]\n",
    "#afficher la longueur de Carre4\n",
    "print(len(carre4))\n",
    "#recuperer les valeurs de carre3[1]\n",
    "print(carre3[1])\n",
    "#declaration d'une variable b permettant de récupérer  \n",
    "b=(carre4[2])\n",
    "print(b[1])"
   ]
  },
  {
   "cell_type": "markdown",
   "id": "a0c8d1be",
   "metadata": {},
   "source": [
    "# Demander l'utilisateur de saisir son nom"
   ]
  },
  {
   "cell_type": "code",
   "execution_count": 9,
   "id": "3cce2dd9",
   "metadata": {},
   "outputs": [
    {
     "name": "stdout",
     "output_type": "stream",
     "text": [
      " Svp entrer votre nom ? gudqu\n",
      "Bonjour gudqu\n"
     ]
    }
   ],
   "source": [
    "a=input(\" Svp entrer votre nom ? \")\n",
    "b=\"Bonjour\" + \" \" + a\n",
    "print(b)"
   ]
  },
  {
   "cell_type": "markdown",
   "id": "8b02df1b",
   "metadata": {},
   "source": [
    "# Ajouter la valeur 1 à chacun de ses éléments "
   ]
  },
  {
   "cell_type": "code",
   "execution_count": 3,
   "id": "63bf69a7",
   "metadata": {},
   "outputs": [
    {
     "name": "stdout",
     "output_type": "stream",
     "text": [
      "[1, 2, 3, 4, 5, 6, 7, 8, 9, 10]\n"
     ]
    }
   ],
   "source": [
    "L=[0,1,2,3,4,5,6,7,8,9]\n",
    "\n",
    "Newliste=[i+1 for i in L]\n",
    "print(Newliste)\n"
   ]
  },
  {
   "cell_type": "markdown",
   "id": "779a2582",
   "metadata": {},
   "source": [
    "# Ajouter 11 à la fin de la liste"
   ]
  },
  {
   "cell_type": "code",
   "execution_count": 4,
   "id": "97c2005a",
   "metadata": {},
   "outputs": [
    {
     "name": "stdout",
     "output_type": "stream",
     "text": [
      "[1, 2, 3, 4, 5, 6, 7, 8, 9, 10, 11]\n"
     ]
    }
   ],
   "source": [
    "Newliste.append(11)\n",
    "\n",
    "print(Newliste)"
   ]
  },
  {
   "cell_type": "markdown",
   "id": "e1e583a0",
   "metadata": {},
   "source": [
    "# Ajouter 12 & 13 à la fin de la liste "
   ]
  },
  {
   "cell_type": "code",
   "execution_count": 3,
   "id": "1e5ac0d6",
   "metadata": {},
   "outputs": [
    {
     "ename": "NameError",
     "evalue": "name 'Newliste' is not defined",
     "output_type": "error",
     "traceback": [
      "\u001b[0;31m---------------------------------------------------------------------------\u001b[0m",
      "\u001b[0;31mNameError\u001b[0m                                 Traceback (most recent call last)",
      "\u001b[0;32m<ipython-input-3-025b80be2347>\u001b[0m in \u001b[0;36m<module>\u001b[0;34m\u001b[0m\n\u001b[0;32m----> 1\u001b[0;31m \u001b[0mNewliste\u001b[0m\u001b[0;34m.\u001b[0m\u001b[0mappend\u001b[0m\u001b[0;34m(\u001b[0m\u001b[0;36m12\u001b[0m\u001b[0;34m)\u001b[0m\u001b[0;34m\u001b[0m\u001b[0;34m\u001b[0m\u001b[0m\n\u001b[0m\u001b[1;32m      2\u001b[0m \u001b[0mNewliste\u001b[0m\u001b[0;34m.\u001b[0m\u001b[0mappend\u001b[0m\u001b[0;34m(\u001b[0m\u001b[0;36m13\u001b[0m\u001b[0;34m)\u001b[0m\u001b[0;34m\u001b[0m\u001b[0;34m\u001b[0m\u001b[0m\n\u001b[1;32m      3\u001b[0m \u001b[0mprint\u001b[0m\u001b[0;34m(\u001b[0m\u001b[0mNewliste\u001b[0m\u001b[0;34m)\u001b[0m\u001b[0;34m\u001b[0m\u001b[0;34m\u001b[0m\u001b[0m\n",
      "\u001b[0;31mNameError\u001b[0m: name 'Newliste' is not defined"
     ]
    }
   ],
   "source": [
    "Newliste.append(12)\n",
    "Newliste.append(13)\n",
    "print(Newliste)"
   ]
  },
  {
   "cell_type": "code",
   "execution_count": null,
   "id": "e3292925",
   "metadata": {},
   "outputs": [],
   "source": []
  },
  {
   "cell_type": "code",
   "execution_count": null,
   "id": "f8a95606",
   "metadata": {},
   "outputs": [],
   "source": []
  }
 ],
 "metadata": {
  "kernelspec": {
   "display_name": "Python 3",
   "language": "python",
   "name": "python3"
  },
  "language_info": {
   "codemirror_mode": {
    "name": "ipython",
    "version": 3
   },
   "file_extension": ".py",
   "mimetype": "text/x-python",
   "name": "python",
   "nbconvert_exporter": "python",
   "pygments_lexer": "ipython3",
   "version": "3.8.8"
  }
 },
 "nbformat": 4,
 "nbformat_minor": 5
}
